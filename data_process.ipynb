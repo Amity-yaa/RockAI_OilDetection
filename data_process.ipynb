{
 "cells": [
  {
   "cell_type": "code",
   "execution_count": 2,
   "metadata": {},
   "outputs": [],
   "source": [
    "# 引入库\n",
    "import os\n",
    "import shutil\n",
    "import pandas as pd"
   ]
  },
  {
   "cell_type": "markdown",
   "metadata": {},
   "source": [
    "### 1、制作有用的数据集\n",
    "\n",
    "把正常光照下和荧光下的照片分成两个文件夹存储，方便后续模型训练\n"
   ]
  },
  {
   "cell_type": "code",
   "execution_count": 3,
   "metadata": {},
   "outputs": [],
   "source": [
    "root = 'Rock'\n",
    "img_names = os.listdir(root)\n",
    "\n",
    "for i in range(len(img_names)):\n",
    "    imgs = img_names[i].split('.')\n",
    "    \n",
    "    if imgs[0][-1] == '1':\n",
    "        if not os.path.exists('train_1'):\n",
    "            os.mkdir('train_1')\n",
    "        old_file = os.path.join(root,img_names[i]) # 补全图片路径\n",
    "        new_file = os.path.join('train_1',img_names[i])\n",
    "        shutil.copy(old_file,new_file) # 复制正常光下的图片\n",
    "    else:\n",
    "        if not os.path.exists('train_2'):\n",
    "            os.mkdir('train_2')\n",
    "        old_file = os.path.join(root,img_names[i]) # 补全图片路径\n",
    "        new_file = os.path.join('train_2',img_names[i])\n",
    "        shutil.copy(old_file,new_file) # 复制荧光下的图片\n"
   ]
  },
  {
   "cell_type": "markdown",
   "metadata": {},
   "source": [
    "### 2、对岩石类别打标签"
   ]
  },
  {
   "cell_type": "code",
   "execution_count": 4,
   "metadata": {},
   "outputs": [
    {
     "name": "stderr",
     "output_type": "stream",
     "text": [
      "<ipython-input-4-ae81983d053b>:16: SettingWithCopyWarning: \n",
      "A value is trying to be set on a copy of a slice from a DataFrame\n",
      "\n",
      "See the caveats in the documentation: https://pandas.pydata.org/pandas-docs/stable/user_guide/indexing.html#returning-a-view-versus-a-copy\n",
      "  label_all['类别标签'][i] = label_n[label_chinese]\n"
     ]
    },
    {
     "data": {
      "text/html": [
       "<div>\n",
       "<style scoped>\n",
       "    .dataframe tbody tr th:only-of-type {\n",
       "        vertical-align: middle;\n",
       "    }\n",
       "\n",
       "    .dataframe tbody tr th {\n",
       "        vertical-align: top;\n",
       "    }\n",
       "\n",
       "    .dataframe thead th {\n",
       "        text-align: right;\n",
       "    }\n",
       "</style>\n",
       "<table border=\"1\" class=\"dataframe\">\n",
       "  <thead>\n",
       "    <tr style=\"text-align: right;\">\n",
       "      <th></th>\n",
       "      <th>样本编号</th>\n",
       "      <th>样本类别</th>\n",
       "      <th>类别标签</th>\n",
       "    </tr>\n",
       "  </thead>\n",
       "  <tbody>\n",
       "    <tr>\n",
       "      <th>0</th>\n",
       "      <td>1</td>\n",
       "      <td>深灰色泥岩</td>\n",
       "      <td>3</td>\n",
       "    </tr>\n",
       "    <tr>\n",
       "      <th>1</th>\n",
       "      <td>2</td>\n",
       "      <td>黑色煤</td>\n",
       "      <td>6</td>\n",
       "    </tr>\n",
       "    <tr>\n",
       "      <th>2</th>\n",
       "      <td>3</td>\n",
       "      <td>深灰色泥岩</td>\n",
       "      <td>3</td>\n",
       "    </tr>\n",
       "    <tr>\n",
       "      <th>3</th>\n",
       "      <td>4</td>\n",
       "      <td>灰色细砂岩</td>\n",
       "      <td>1</td>\n",
       "    </tr>\n",
       "    <tr>\n",
       "      <th>4</th>\n",
       "      <td>5</td>\n",
       "      <td>浅灰色细砂岩</td>\n",
       "      <td>0</td>\n",
       "    </tr>\n",
       "    <tr>\n",
       "      <th>...</th>\n",
       "      <td>...</td>\n",
       "      <td>...</td>\n",
       "      <td>...</td>\n",
       "    </tr>\n",
       "    <tr>\n",
       "      <th>310</th>\n",
       "      <td>346</td>\n",
       "      <td>浅灰色细砂岩</td>\n",
       "      <td>0</td>\n",
       "    </tr>\n",
       "    <tr>\n",
       "      <th>311</th>\n",
       "      <td>347</td>\n",
       "      <td>深灰色泥岩</td>\n",
       "      <td>3</td>\n",
       "    </tr>\n",
       "    <tr>\n",
       "      <th>312</th>\n",
       "      <td>348</td>\n",
       "      <td>深灰色泥岩</td>\n",
       "      <td>3</td>\n",
       "    </tr>\n",
       "    <tr>\n",
       "      <th>313</th>\n",
       "      <td>349</td>\n",
       "      <td>浅灰色细砂岩</td>\n",
       "      <td>0</td>\n",
       "    </tr>\n",
       "    <tr>\n",
       "      <th>314</th>\n",
       "      <td>350</td>\n",
       "      <td>浅灰色细砂岩</td>\n",
       "      <td>0</td>\n",
       "    </tr>\n",
       "  </tbody>\n",
       "</table>\n",
       "<p>315 rows × 3 columns</p>\n",
       "</div>"
      ],
      "text/plain": [
       "     样本编号    样本类别  类别标签\n",
       "0       1   深灰色泥岩     3\n",
       "1       2     黑色煤     6\n",
       "2       3   深灰色泥岩     3\n",
       "3       4   灰色细砂岩     1\n",
       "4       5  浅灰色细砂岩     0\n",
       "..    ...     ...   ...\n",
       "310   346  浅灰色细砂岩     0\n",
       "311   347   深灰色泥岩     3\n",
       "312   348   深灰色泥岩     3\n",
       "313   349  浅灰色细砂岩     0\n",
       "314   350  浅灰色细砂岩     0\n",
       "\n",
       "[315 rows x 3 columns]"
      ]
     },
     "execution_count": 4,
     "metadata": {},
     "output_type": "execute_result"
    }
   ],
   "source": [
    "# 再入数据文件\n",
    "label_path = './rock_label.csv'\n",
    "label_all = pd.read_csv(label_path, encoding = 'gbk')\n",
    "\n",
    "\n",
    "label_name = label_all.iloc[:,1]\n",
    "name = list(set(label_name)) # 岩石类别的集合\n",
    "labels = [i for i in range(len(name))] #对岩石类别打标签\n",
    "label_n = dict(zip(name, labels)) # 将标签和岩石类别一一对应\n",
    "\n",
    "\n",
    "# 初始化新的一列\n",
    "label_all['类别标签'] = [0]*len(label_all)\n",
    "for i in range(len(label_name)):\n",
    "    label_chinese = label_name[i]\n",
    "    label_all['类别标签'][i] = label_n[label_chinese]\n",
    "\n",
    "label_all   \n"
   ]
  },
  {
   "cell_type": "code",
   "execution_count": 6,
   "metadata": {},
   "outputs": [],
   "source": [
    "# 保存新建标签文件\n",
    "label_all.to_csv('label_new.csv',index = None)"
   ]
  },
  {
   "cell_type": "code",
   "execution_count": null,
   "metadata": {},
   "outputs": [],
   "source": []
  }
 ],
 "metadata": {
  "kernelspec": {
   "display_name": "Python 3",
   "language": "python",
   "name": "python3"
  },
  "language_info": {
   "codemirror_mode": {
    "name": "ipython",
    "version": 3
   },
   "file_extension": ".py",
   "mimetype": "text/x-python",
   "name": "python",
   "nbconvert_exporter": "python",
   "pygments_lexer": "ipython3",
   "version": "3.8.3"
  }
 },
 "nbformat": 4,
 "nbformat_minor": 5
}
