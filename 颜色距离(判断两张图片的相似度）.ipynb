{
 "cells": [
  {
   "cell_type": "code",
   "execution_count": 4,
   "metadata": {},
   "outputs": [],
   "source": [
    "import math\n",
    "import cv2  \n",
    "import numpy as np  \n",
    "from matplotlib import pyplot as plt\n",
    "import matplotlib.mlab as mlab  "
   ]
  },
  {
   "cell_type": "code",
   "execution_count": 5,
   "metadata": {},
   "outputs": [],
   "source": [
    "img1 = cv2.imread('train_2(sample)/1-2.bmp',cv2.IMREAD_COLOR)\n",
    "\n",
    "HSV1 = cv2.cvtColor(img1, cv2.COLOR_BGR2HSV)\n",
    "aH1, aS1, aV1 = cv2.split(HSV1)\n",
    "H1 = np.array(aH1).flatten()\n",
    "S1 = np.array(aS1).flatten()\n",
    "V1 = np.array(aV1).flatten()\n"
   ]
  },
  {
   "cell_type": "code",
   "execution_count": 8,
   "metadata": {},
   "outputs": [
    {
     "data": {
      "text/plain": [
       "array([[152, 153,   0, ...,   0,   0,   0],\n",
       "       [  0,   0,   0, ...,   0,   0,   0],\n",
       "       [  0,   0,   0, ...,   0,   0,   0],\n",
       "       ...,\n",
       "       [  0,   0,   0, ...,   0,   0,   0],\n",
       "       [  0,   0,   0, ...,   0,   0,   0],\n",
       "       [  0,   0,   0, ...,   0,   0,   0]], dtype=uint8)"
      ]
     },
     "execution_count": 8,
     "metadata": {},
     "output_type": "execute_result"
    }
   ],
   "source": [
    "aH1"
   ]
  },
  {
   "cell_type": "code",
   "execution_count": 6,
   "metadata": {},
   "outputs": [],
   "source": [
    "\n",
    "img2 = cv2.imread('train_2(sample)/4-2.bmp',cv2.IMREAD_COLOR)\n",
    "\n",
    "HSV2 = cv2.cvtColor(img2, cv2.COLOR_BGR2HSV)\n",
    "aH2, aS2, aV2 = cv2.split(HSV2)\n",
    "H2 = np.array(aH2).flatten()\n",
    "S2 = np.array(aS2).flatten()\n",
    "V2 = np.array(aV2).flatten()\n",
    "\n"
   ]
  },
  {
   "cell_type": "code",
   "execution_count": 7,
   "metadata": {},
   "outputs": [
    {
     "name": "stdout",
     "output_type": "stream",
     "text": [
      "622847372.1513727\n"
     ]
    }
   ],
   "source": [
    "R = 100.0;\n",
    "angle = 30.0;\n",
    "h = R * math.cos(angle / 180 * math.pi);\n",
    "r = R * math.sin(angle / 180 * math.pi);\n",
    "\n",
    "sum = 0.0\n",
    "for i in range(0, len(H1)):\n",
    "    x1 = r * V1[i] * S1[i] * math.cos(H1[i] / 180.0 * math.pi);\n",
    "    y1 = r * V1[i] * S1[i] * math.sin(H1[i] / 180.0 * math.pi);\n",
    "    z1 = h * (1 - V1[i]);\n",
    "\n",
    "    x2 = r * V2[i] * S2[i] * math.cos(H2[i] / 180.0 * math.pi);\n",
    "    y2 = r * V2[i] * S2[i] * math.sin(H2[i] / 180.0 * math.pi);\n",
    "    z2 = h * (1 - V2[i]);\n",
    "\n",
    "    dx = x1 - x2;\n",
    "    dy = y1 - y2;\n",
    "    dz = z1 - z2;\n",
    "\n",
    "    sum = sum + dx * dx + dy * dy + dz * dz\n",
    "\n",
    "eucli_dean = math.sqrt(sum)\n",
    "print(eucli_dean)\n"
   ]
  },
  {
   "cell_type": "code",
   "execution_count": null,
   "metadata": {},
   "outputs": [],
   "source": []
  }
 ],
 "metadata": {
  "kernelspec": {
   "display_name": "Python 3",
   "language": "python",
   "name": "python3"
  },
  "language_info": {
   "codemirror_mode": {
    "name": "ipython",
    "version": 3
   },
   "file_extension": ".py",
   "mimetype": "text/x-python",
   "name": "python",
   "nbconvert_exporter": "python",
   "pygments_lexer": "ipython3",
   "version": "3.6.10"
  }
 },
 "nbformat": 4,
 "nbformat_minor": 4
}
