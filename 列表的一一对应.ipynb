{
 "cells": [
  {
   "cell_type": "markdown",
   "metadata": {},
   "source": [
    "# 方法一"
   ]
  },
  {
   "cell_type": "code",
   "execution_count": 1,
   "metadata": {},
   "outputs": [
    {
     "name": "stdout",
     "output_type": "stream",
     "text": [
      "0.jpg 0.0\n",
      "1.jpg 0.3333333333333333\n",
      "2.jpg 0.6666666666666666\n"
     ]
    }
   ],
   "source": [
    "imgs = [] \n",
    "ratios = [] \n",
    "for i in range(3):\n",
    "    img_name = str(i)+'.jpg'\n",
    "    \n",
    "    # 假设百分比的公式是这个\n",
    "    ratio = i/3\t  \n",
    "    \n",
    "    imgs.append(img_name)\n",
    "    ratios.append(ratio)\n",
    "\n",
    "# 然后现在两个一一对应了，虽然他们分开成两个列表，但是是在用的时候是可以一一对应的\n",
    "for i in range(len(imgs)):\n",
    "    print(imgs[i],ratios[i])\n",
    "\n"
   ]
  },
  {
   "cell_type": "markdown",
   "metadata": {},
   "source": [
    "# 方法二"
   ]
  },
  {
   "cell_type": "code",
   "execution_count": 2,
   "metadata": {},
   "outputs": [
    {
     "name": "stdout",
     "output_type": "stream",
     "text": [
      "['0.jpg', 0.0]\n",
      "['1.jpg', 0.3333333333333333]\n",
      "['2.jpg', 0.6666666666666666]\n",
      "--------------------以下是单独dataframe的内容--------------------\n"
     ]
    },
    {
     "data": {
      "text/html": [
       "<div>\n",
       "<style scoped>\n",
       "    .dataframe tbody tr th:only-of-type {\n",
       "        vertical-align: middle;\n",
       "    }\n",
       "\n",
       "    .dataframe tbody tr th {\n",
       "        vertical-align: top;\n",
       "    }\n",
       "\n",
       "    .dataframe thead th {\n",
       "        text-align: right;\n",
       "    }\n",
       "</style>\n",
       "<table border=\"1\" class=\"dataframe\">\n",
       "  <thead>\n",
       "    <tr style=\"text-align: right;\">\n",
       "      <th></th>\n",
       "      <th>文件名</th>\n",
       "      <th>百分比</th>\n",
       "    </tr>\n",
       "  </thead>\n",
       "  <tbody>\n",
       "    <tr>\n",
       "      <th>0</th>\n",
       "      <td>0.jpg</td>\n",
       "      <td>0.000000</td>\n",
       "    </tr>\n",
       "    <tr>\n",
       "      <th>1</th>\n",
       "      <td>1.jpg</td>\n",
       "      <td>0.333333</td>\n",
       "    </tr>\n",
       "    <tr>\n",
       "      <th>2</th>\n",
       "      <td>2.jpg</td>\n",
       "      <td>0.666667</td>\n",
       "    </tr>\n",
       "  </tbody>\n",
       "</table>\n",
       "</div>"
      ],
      "text/plain": [
       "     文件名       百分比\n",
       "0  0.jpg  0.000000\n",
       "1  1.jpg  0.333333\n",
       "2  2.jpg  0.666667"
      ]
     },
     "execution_count": 2,
     "metadata": {},
     "output_type": "execute_result"
    }
   ],
   "source": [
    "\n",
    "all = []   \n",
    "for i in range(3):\n",
    "    img_name = str(i)+'.jpg'\n",
    "    ratio = i/3\n",
    "    all.append([img_name,ratio])\n",
    "\n",
    "# 现在要看的话\n",
    "for i in range(len(all) ):\n",
    "    print(all[i])\n",
    "\n",
    "print('-'*20+'以下是单独dataframe的内容'+'-'*20)\n",
    "# 这时甚至可以变成dataframe\n",
    "import pandas as pd \n",
    "df = pd.DataFrame(all,columns = ['文件名','百分比'])\n",
    "df "
   ]
  },
  {
   "cell_type": "code",
   "execution_count": null,
   "metadata": {},
   "outputs": [],
   "source": []
  }
 ],
 "metadata": {
  "kernelspec": {
   "display_name": "Python 3",
   "language": "python",
   "name": "python3"
  },
  "language_info": {
   "codemirror_mode": {
    "name": "ipython",
    "version": 3
   },
   "file_extension": ".py",
   "mimetype": "text/x-python",
   "name": "python",
   "nbconvert_exporter": "python",
   "pygments_lexer": "ipython3",
   "version": "3.6.10"
  }
 },
 "nbformat": 4,
 "nbformat_minor": 2
}
